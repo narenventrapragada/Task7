{
 "cells": [
  {
   "cell_type": "code",
   "execution_count": 1,
   "metadata": {},
   "outputs": [],
   "source": [
    "\n",
    "import sqlite3\n",
    "import pandas as pd\n",
    "import matplotlib.pyplot as plt"
   ]
  },
  {
   "cell_type": "code",
   "execution_count": 4,
   "id": "97894cbc",
   "metadata": {},
   "outputs": [
    {
     "ename": "OperationalError",
     "evalue": "no such table: sales",
     "output_type": "error",
     "traceback": [
      "\u001b[1;31m---------------------------------------------------------------------------\u001b[0m",
      "\u001b[1;31mOperationalError\u001b[0m                          Traceback (most recent call last)",
      "Cell \u001b[1;32mIn[4], line 6\u001b[0m\n\u001b[0;32m      3\u001b[0m cursor \u001b[38;5;241m=\u001b[39m conn\u001b[38;5;241m.\u001b[39mcursor()\n\u001b[0;32m      5\u001b[0m \u001b[38;5;66;03m# ---- Step 2: Queries for Summary ----\u001b[39;00m\n\u001b[1;32m----> 6\u001b[0m \u001b[43mcursor\u001b[49m\u001b[38;5;241;43m.\u001b[39;49m\u001b[43mexecute\u001b[49m\u001b[43m(\u001b[49m\u001b[38;5;124;43m\"\u001b[39;49m\u001b[38;5;124;43mSELECT SUM(Quantity) FROM sales\u001b[39;49m\u001b[38;5;124;43m\"\u001b[39;49m\u001b[43m)\u001b[49m\n\u001b[0;32m      7\u001b[0m total_quantity \u001b[38;5;241m=\u001b[39m cursor\u001b[38;5;241m.\u001b[39mfetchone()[\u001b[38;5;241m0\u001b[39m]\n\u001b[0;32m      9\u001b[0m cursor\u001b[38;5;241m.\u001b[39mexecute(\u001b[38;5;124m\"\u001b[39m\u001b[38;5;124mSELECT SUM(Sales) FROM sales\u001b[39m\u001b[38;5;124m\"\u001b[39m)\n",
      "\u001b[1;31mOperationalError\u001b[0m: no such table: sales"
     ]
    }
   ],
   "source": [
    "\n",
    "# ---- Step 1: Connect to SQLite Database ----\n",
    "conn = sqlite3.connect('Internship.db')\n",
    "cursor = conn.cursor()\n",
    "\n",
    "# ---- Step 2: Queries for Summary ----\n",
    "cursor.execute(\"SELECT SUM(Quantity) FROM sales\")\n",
    "total_quantity = cursor.fetchone()[0]\n",
    "\n",
    "cursor.execute(\"SELECT SUM(Sales) FROM sales\")\n",
    "total_revenue = cursor.fetchone()[0]\n",
    "\n",
    "cursor.execute(\"SELECT AVG(Rating) FROM sales\")\n",
    "avg_rating = cursor.fetchone()[0]\n",
    "\n",
    "cursor.execute(\"\"\"\n",
    "    SELECT [Product line], SUM(Sales) AS total_sales\n",
    "    FROM sales\n",
    "    GROUP BY [Product line]\n",
    "    ORDER BY total_sales DESC\n",
    "    LIMIT 1\n",
    "\"\"\")\n",
    "top_product_line, top_sales_value = cursor.fetchone()\n",
    "\n",
    "# Data for charts\n",
    "sales_by_product = pd.read_sql_query(\"\"\"\n",
    "    SELECT [Product line], SUM(Sales) AS total_sales\n",
    "    FROM sales\n",
    "    GROUP BY [Product line]\n",
    "    ORDER BY total_sales DESC\n",
    "\"\"\", conn)\n",
    "\n",
    "sales_by_branch = pd.read_sql_query(\"\"\"\n",
    "    SELECT Branch, SUM(Sales) AS total_sales\n",
    "    FROM sales\n",
    "    GROUP BY Branch\n",
    "\"\"\", conn)\n",
    "\n",
    "# ---- Step 3: Print Summary ----\n",
    "print(\"===== BASIC SALES SUMMARY =====\")\n",
    "print(f\"Total Quantity Sold     : {total_quantity}\")\n",
    "print(f\"Total Revenue           : {total_revenue:.2f}\")\n",
    "print(f\"Average Rating          : {avg_rating:.2f}\")\n",
    "print(f\"Top-Selling Product     : {top_product_line} ({top_sales_value:.2f})\")\n",
    "print(\"\\nSales by Branch:\")\n",
    "print(sales_by_branch)\n",
    "\n",
    "# ---- Step 4: Side-by-Side Charts ----\n",
    "fig, axes = plt.subplots(1, 2, figsize=(12,5))\n",
    "\n",
    "# Left chart: Sales by Product Line\n",
    "bars1 = axes[0].bar(sales_by_product['Product line'], sales_by_product['total_sales'], color='lightblue')\n",
    "axes[0].set_title(\"Sales by Product Line\")\n",
    "axes[0].set_xlabel(\"Product Line\")\n",
    "axes[0].set_ylabel(\"Total Sales\")\n",
    "axes[0].tick_params(axis='x', rotation=45)\n",
    "\n",
    "for bar in bars1:\n",
    "    axes[0].text(bar.get_x() + bar.get_width()/2, bar.get_height(),\n",
    "                 f\"{bar.get_height():,.0f}\", ha='center', va='bottom', fontsize=8)\n",
    "\n",
    "# Right chart: Sales by Branch\n",
    "bars2 = axes[1].bar(sales_by_branch['Branch'], sales_by_branch['total_sales'], color='salmon')\n",
    "axes[1].set_title(\"Sales by Branch\")\n",
    "axes[1].set_xlabel(\"Branch\")\n",
    "axes[1].set_ylabel(\"Total Sales\")\n",
    "\n",
    "for bar in bars2:\n",
    "    axes[1].text(bar.get_x() + bar.get_width()/2, bar.get_height(),\n",
    "                 f\"{bar.get_height():,.0f}\", ha='center', va='bottom', fontsize=8)\n",
    "\n",
    "plt.tight_layout()\n",
    "plt.show()\n",
    "\n",
    "# Close connection\n",
    "conn.close()\n"
   ]
  },
  {
   "cell_type": "code",
   "execution_count": null,
   "id": "b1373b78",
   "metadata": {},
   "outputs": [],
   "source": []
  }
 ],
 "metadata": {
  "kernelspec": {
   "display_name": "Python 3",
   "language": "python",
   "name": "python3"
  },
  "language_info": {
   "codemirror_mode": {
    "name": "ipython",
    "version": 3
   },
   "file_extension": ".py",
   "mimetype": "text/x-python",
   "name": "python",
   "nbconvert_exporter": "python",
   "pygments_lexer": "ipython3",
   "version": "3.10.4"
  }
 },
 "nbformat": 4,
 "nbformat_minor": 5
}
